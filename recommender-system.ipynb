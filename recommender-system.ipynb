{
 "cells": [
  {
   "cell_type": "markdown",
   "metadata": {
    "_cell_guid": "b1076dfc-b9ad-4769-8c92-a6c4dae69d19",
    "_uuid": "8f2839f25d086af736a60e9eeb907d3b93b6e0e5"
   },
   "source": [
    "### ***Necessary Imports***"
   ]
  },
  {
   "cell_type": "code",
   "execution_count": 1,
   "metadata": {
    "execution": {
     "iopub.execute_input": "2023-03-05T07:09:00.468251Z",
     "iopub.status.busy": "2023-03-05T07:09:00.467962Z",
     "iopub.status.idle": "2023-03-05T07:09:00.474530Z",
     "shell.execute_reply": "2023-03-05T07:09:00.473335Z",
     "shell.execute_reply.started": "2023-03-05T07:09:00.468225Z"
    }
   },
   "outputs": [],
   "source": [
    "import numpy as np\n",
    "import pandas as pd\n",
    "import matplotlib.pyplot as plt\n",
    "from matplotlib import style\n",
    "\n",
    "# string maniulation \n",
    "import re\n",
    "import ast \n",
    "\n",
    "# preprocessing\n",
    "import nltk\n",
    "from nltk.stem import PorterStemmer\n",
    "from nltk.corpus import stopwords\n",
    "stemmer = PorterStemmer()\n",
    "stopwords_ = stopwords.words('english')"
   ]
  },
  {
   "cell_type": "markdown",
   "metadata": {},
   "source": [
    "### ***We'll make a basic content based recommender system or in other words which assume that the users are independent***"
   ]
  },
  {
   "cell_type": "code",
   "execution_count": 2,
   "metadata": {
    "execution": {
     "iopub.execute_input": "2023-03-05T07:09:03.814692Z",
     "iopub.status.busy": "2023-03-05T07:09:03.813887Z",
     "iopub.status.idle": "2023-03-05T07:09:03.820420Z",
     "shell.execute_reply": "2023-03-05T07:09:03.818817Z",
     "shell.execute_reply.started": "2023-03-05T07:09:03.814651Z"
    }
   },
   "outputs": [],
   "source": [
    "credits_path = 'tmdb_5000_credits.csv'\n",
    "movies_path = 'tmdb_5000_movies.csv'"
   ]
  },
  {
   "cell_type": "code",
   "execution_count": 3,
   "metadata": {
    "execution": {
     "iopub.execute_input": "2023-03-05T07:09:05.493759Z",
     "iopub.status.busy": "2023-03-05T07:09:05.493422Z",
     "iopub.status.idle": "2023-03-05T07:09:05.819925Z",
     "shell.execute_reply": "2023-03-05T07:09:05.818330Z",
     "shell.execute_reply.started": "2023-03-05T07:09:05.493732Z"
    }
   },
   "outputs": [
    {
     "name": "stdout",
     "output_type": "stream",
     "text": [
      "Index(['movie_id', 'title', 'cast', 'crew'], dtype='object')\n"
     ]
    },
    {
     "data": {
      "text/html": [
       "<div>\n",
       "<style scoped>\n",
       "    .dataframe tbody tr th:only-of-type {\n",
       "        vertical-align: middle;\n",
       "    }\n",
       "\n",
       "    .dataframe tbody tr th {\n",
       "        vertical-align: top;\n",
       "    }\n",
       "\n",
       "    .dataframe thead th {\n",
       "        text-align: right;\n",
       "    }\n",
       "</style>\n",
       "<table border=\"1\" class=\"dataframe\">\n",
       "  <thead>\n",
       "    <tr style=\"text-align: right;\">\n",
       "      <th></th>\n",
       "      <th>movie_id</th>\n",
       "      <th>title</th>\n",
       "      <th>cast</th>\n",
       "      <th>crew</th>\n",
       "    </tr>\n",
       "  </thead>\n",
       "  <tbody>\n",
       "    <tr>\n",
       "      <th>0</th>\n",
       "      <td>19995</td>\n",
       "      <td>Avatar</td>\n",
       "      <td>[{\"cast_id\": 242, \"character\": \"Jake Sully\", \"...</td>\n",
       "      <td>[{\"credit_id\": \"52fe48009251416c750aca23\", \"de...</td>\n",
       "    </tr>\n",
       "  </tbody>\n",
       "</table>\n",
       "</div>"
      ],
      "text/plain": [
       "   movie_id   title                                               cast  \\\n",
       "0     19995  Avatar  [{\"cast_id\": 242, \"character\": \"Jake Sully\", \"...   \n",
       "\n",
       "                                                crew  \n",
       "0  [{\"credit_id\": \"52fe48009251416c750aca23\", \"de...  "
      ]
     },
     "execution_count": 3,
     "metadata": {},
     "output_type": "execute_result"
    }
   ],
   "source": [
    "credits = pd.read_csv(credits_path)\n",
    "print(credits.columns)\n",
    "credits.head(1)"
   ]
  },
  {
   "cell_type": "code",
   "execution_count": 4,
   "metadata": {
    "execution": {
     "iopub.execute_input": "2023-03-05T07:09:07.482055Z",
     "iopub.status.busy": "2023-03-05T07:09:07.481705Z",
     "iopub.status.idle": "2023-03-05T07:09:07.567162Z",
     "shell.execute_reply": "2023-03-05T07:09:07.566178Z",
     "shell.execute_reply.started": "2023-03-05T07:09:07.482027Z"
    }
   },
   "outputs": [
    {
     "name": "stdout",
     "output_type": "stream",
     "text": [
      "Index(['budget', 'genres', 'homepage', 'id', 'keywords', 'original_language',\n",
      "       'original_title', 'overview', 'popularity', 'production_companies',\n",
      "       'production_countries', 'release_date', 'revenue', 'runtime',\n",
      "       'spoken_languages', 'status', 'tagline', 'title', 'vote_average',\n",
      "       'vote_count'],\n",
      "      dtype='object')\n"
     ]
    },
    {
     "data": {
      "text/html": [
       "<div>\n",
       "<style scoped>\n",
       "    .dataframe tbody tr th:only-of-type {\n",
       "        vertical-align: middle;\n",
       "    }\n",
       "\n",
       "    .dataframe tbody tr th {\n",
       "        vertical-align: top;\n",
       "    }\n",
       "\n",
       "    .dataframe thead th {\n",
       "        text-align: right;\n",
       "    }\n",
       "</style>\n",
       "<table border=\"1\" class=\"dataframe\">\n",
       "  <thead>\n",
       "    <tr style=\"text-align: right;\">\n",
       "      <th></th>\n",
       "      <th>budget</th>\n",
       "      <th>genres</th>\n",
       "      <th>homepage</th>\n",
       "      <th>id</th>\n",
       "      <th>keywords</th>\n",
       "      <th>original_language</th>\n",
       "      <th>original_title</th>\n",
       "      <th>overview</th>\n",
       "      <th>popularity</th>\n",
       "      <th>production_companies</th>\n",
       "      <th>production_countries</th>\n",
       "      <th>release_date</th>\n",
       "      <th>revenue</th>\n",
       "      <th>runtime</th>\n",
       "      <th>spoken_languages</th>\n",
       "      <th>status</th>\n",
       "      <th>tagline</th>\n",
       "      <th>title</th>\n",
       "      <th>vote_average</th>\n",
       "      <th>vote_count</th>\n",
       "    </tr>\n",
       "  </thead>\n",
       "  <tbody>\n",
       "    <tr>\n",
       "      <th>0</th>\n",
       "      <td>237000000</td>\n",
       "      <td>[{\"id\": 28, \"name\": \"Action\"}, {\"id\": 12, \"nam...</td>\n",
       "      <td>http://www.avatarmovie.com/</td>\n",
       "      <td>19995</td>\n",
       "      <td>[{\"id\": 1463, \"name\": \"culture clash\"}, {\"id\":...</td>\n",
       "      <td>en</td>\n",
       "      <td>Avatar</td>\n",
       "      <td>In the 22nd century, a paraplegic Marine is di...</td>\n",
       "      <td>150.437577</td>\n",
       "      <td>[{\"name\": \"Ingenious Film Partners\", \"id\": 289...</td>\n",
       "      <td>[{\"iso_3166_1\": \"US\", \"name\": \"United States o...</td>\n",
       "      <td>2009-12-10</td>\n",
       "      <td>2787965087</td>\n",
       "      <td>162.0</td>\n",
       "      <td>[{\"iso_639_1\": \"en\", \"name\": \"English\"}, {\"iso...</td>\n",
       "      <td>Released</td>\n",
       "      <td>Enter the World of Pandora.</td>\n",
       "      <td>Avatar</td>\n",
       "      <td>7.2</td>\n",
       "      <td>11800</td>\n",
       "    </tr>\n",
       "  </tbody>\n",
       "</table>\n",
       "</div>"
      ],
      "text/plain": [
       "      budget                                             genres  \\\n",
       "0  237000000  [{\"id\": 28, \"name\": \"Action\"}, {\"id\": 12, \"nam...   \n",
       "\n",
       "                      homepage     id  \\\n",
       "0  http://www.avatarmovie.com/  19995   \n",
       "\n",
       "                                            keywords original_language  \\\n",
       "0  [{\"id\": 1463, \"name\": \"culture clash\"}, {\"id\":...                en   \n",
       "\n",
       "  original_title                                           overview  \\\n",
       "0         Avatar  In the 22nd century, a paraplegic Marine is di...   \n",
       "\n",
       "   popularity                               production_companies  \\\n",
       "0  150.437577  [{\"name\": \"Ingenious Film Partners\", \"id\": 289...   \n",
       "\n",
       "                                production_countries release_date     revenue  \\\n",
       "0  [{\"iso_3166_1\": \"US\", \"name\": \"United States o...   2009-12-10  2787965087   \n",
       "\n",
       "   runtime                                   spoken_languages    status  \\\n",
       "0    162.0  [{\"iso_639_1\": \"en\", \"name\": \"English\"}, {\"iso...  Released   \n",
       "\n",
       "                       tagline   title  vote_average  vote_count  \n",
       "0  Enter the World of Pandora.  Avatar           7.2       11800  "
      ]
     },
     "execution_count": 4,
     "metadata": {},
     "output_type": "execute_result"
    }
   ],
   "source": [
    "movies = pd.read_csv(movies_path)\n",
    "print(movies.columns)\n",
    "movies.head(1)"
   ]
  },
  {
   "cell_type": "code",
   "execution_count": 5,
   "metadata": {
    "execution": {
     "iopub.execute_input": "2023-03-05T07:09:10.103099Z",
     "iopub.status.busy": "2023-03-05T07:09:10.102760Z",
     "iopub.status.idle": "2023-03-05T07:09:10.142176Z",
     "shell.execute_reply": "2023-03-05T07:09:10.140510Z",
     "shell.execute_reply.started": "2023-03-05T07:09:10.103073Z"
    }
   },
   "outputs": [
    {
     "name": "stdout",
     "output_type": "stream",
     "text": [
      "Index(['budget', 'genres', 'homepage', 'id', 'keywords', 'original_language',\n",
      "       'original_title', 'overview', 'popularity', 'production_companies',\n",
      "       'production_countries', 'release_date', 'revenue', 'runtime',\n",
      "       'spoken_languages', 'status', 'tagline', 'title', 'vote_average',\n",
      "       'vote_count', 'movie_id', 'cast', 'crew'],\n",
      "      dtype='object')\n"
     ]
    },
    {
     "data": {
      "text/html": [
       "<div>\n",
       "<style scoped>\n",
       "    .dataframe tbody tr th:only-of-type {\n",
       "        vertical-align: middle;\n",
       "    }\n",
       "\n",
       "    .dataframe tbody tr th {\n",
       "        vertical-align: top;\n",
       "    }\n",
       "\n",
       "    .dataframe thead th {\n",
       "        text-align: right;\n",
       "    }\n",
       "</style>\n",
       "<table border=\"1\" class=\"dataframe\">\n",
       "  <thead>\n",
       "    <tr style=\"text-align: right;\">\n",
       "      <th></th>\n",
       "      <th>budget</th>\n",
       "      <th>genres</th>\n",
       "      <th>homepage</th>\n",
       "      <th>id</th>\n",
       "      <th>keywords</th>\n",
       "      <th>original_language</th>\n",
       "      <th>original_title</th>\n",
       "      <th>overview</th>\n",
       "      <th>popularity</th>\n",
       "      <th>production_companies</th>\n",
       "      <th>...</th>\n",
       "      <th>runtime</th>\n",
       "      <th>spoken_languages</th>\n",
       "      <th>status</th>\n",
       "      <th>tagline</th>\n",
       "      <th>title</th>\n",
       "      <th>vote_average</th>\n",
       "      <th>vote_count</th>\n",
       "      <th>movie_id</th>\n",
       "      <th>cast</th>\n",
       "      <th>crew</th>\n",
       "    </tr>\n",
       "  </thead>\n",
       "  <tbody>\n",
       "    <tr>\n",
       "      <th>0</th>\n",
       "      <td>237000000</td>\n",
       "      <td>[{\"id\": 28, \"name\": \"Action\"}, {\"id\": 12, \"nam...</td>\n",
       "      <td>http://www.avatarmovie.com/</td>\n",
       "      <td>19995</td>\n",
       "      <td>[{\"id\": 1463, \"name\": \"culture clash\"}, {\"id\":...</td>\n",
       "      <td>en</td>\n",
       "      <td>Avatar</td>\n",
       "      <td>In the 22nd century, a paraplegic Marine is di...</td>\n",
       "      <td>150.437577</td>\n",
       "      <td>[{\"name\": \"Ingenious Film Partners\", \"id\": 289...</td>\n",
       "      <td>...</td>\n",
       "      <td>162.0</td>\n",
       "      <td>[{\"iso_639_1\": \"en\", \"name\": \"English\"}, {\"iso...</td>\n",
       "      <td>Released</td>\n",
       "      <td>Enter the World of Pandora.</td>\n",
       "      <td>Avatar</td>\n",
       "      <td>7.2</td>\n",
       "      <td>11800</td>\n",
       "      <td>19995</td>\n",
       "      <td>[{\"cast_id\": 242, \"character\": \"Jake Sully\", \"...</td>\n",
       "      <td>[{\"credit_id\": \"52fe48009251416c750aca23\", \"de...</td>\n",
       "    </tr>\n",
       "    <tr>\n",
       "      <th>1</th>\n",
       "      <td>300000000</td>\n",
       "      <td>[{\"id\": 12, \"name\": \"Adventure\"}, {\"id\": 14, \"...</td>\n",
       "      <td>http://disney.go.com/disneypictures/pirates/</td>\n",
       "      <td>285</td>\n",
       "      <td>[{\"id\": 270, \"name\": \"ocean\"}, {\"id\": 726, \"na...</td>\n",
       "      <td>en</td>\n",
       "      <td>Pirates of the Caribbean: At World's End</td>\n",
       "      <td>Captain Barbossa, long believed to be dead, ha...</td>\n",
       "      <td>139.082615</td>\n",
       "      <td>[{\"name\": \"Walt Disney Pictures\", \"id\": 2}, {\"...</td>\n",
       "      <td>...</td>\n",
       "      <td>169.0</td>\n",
       "      <td>[{\"iso_639_1\": \"en\", \"name\": \"English\"}]</td>\n",
       "      <td>Released</td>\n",
       "      <td>At the end of the world, the adventure begins.</td>\n",
       "      <td>Pirates of the Caribbean: At World's End</td>\n",
       "      <td>6.9</td>\n",
       "      <td>4500</td>\n",
       "      <td>285</td>\n",
       "      <td>[{\"cast_id\": 4, \"character\": \"Captain Jack Spa...</td>\n",
       "      <td>[{\"credit_id\": \"52fe4232c3a36847f800b579\", \"de...</td>\n",
       "    </tr>\n",
       "    <tr>\n",
       "      <th>2</th>\n",
       "      <td>245000000</td>\n",
       "      <td>[{\"id\": 28, \"name\": \"Action\"}, {\"id\": 12, \"nam...</td>\n",
       "      <td>http://www.sonypictures.com/movies/spectre/</td>\n",
       "      <td>206647</td>\n",
       "      <td>[{\"id\": 470, \"name\": \"spy\"}, {\"id\": 818, \"name...</td>\n",
       "      <td>en</td>\n",
       "      <td>Spectre</td>\n",
       "      <td>A cryptic message from Bond’s past sends him o...</td>\n",
       "      <td>107.376788</td>\n",
       "      <td>[{\"name\": \"Columbia Pictures\", \"id\": 5}, {\"nam...</td>\n",
       "      <td>...</td>\n",
       "      <td>148.0</td>\n",
       "      <td>[{\"iso_639_1\": \"fr\", \"name\": \"Fran\\u00e7ais\"},...</td>\n",
       "      <td>Released</td>\n",
       "      <td>A Plan No One Escapes</td>\n",
       "      <td>Spectre</td>\n",
       "      <td>6.3</td>\n",
       "      <td>4466</td>\n",
       "      <td>206647</td>\n",
       "      <td>[{\"cast_id\": 1, \"character\": \"James Bond\", \"cr...</td>\n",
       "      <td>[{\"credit_id\": \"54805967c3a36829b5002c41\", \"de...</td>\n",
       "    </tr>\n",
       "    <tr>\n",
       "      <th>3</th>\n",
       "      <td>250000000</td>\n",
       "      <td>[{\"id\": 28, \"name\": \"Action\"}, {\"id\": 80, \"nam...</td>\n",
       "      <td>http://www.thedarkknightrises.com/</td>\n",
       "      <td>49026</td>\n",
       "      <td>[{\"id\": 849, \"name\": \"dc comics\"}, {\"id\": 853,...</td>\n",
       "      <td>en</td>\n",
       "      <td>The Dark Knight Rises</td>\n",
       "      <td>Following the death of District Attorney Harve...</td>\n",
       "      <td>112.312950</td>\n",
       "      <td>[{\"name\": \"Legendary Pictures\", \"id\": 923}, {\"...</td>\n",
       "      <td>...</td>\n",
       "      <td>165.0</td>\n",
       "      <td>[{\"iso_639_1\": \"en\", \"name\": \"English\"}]</td>\n",
       "      <td>Released</td>\n",
       "      <td>The Legend Ends</td>\n",
       "      <td>The Dark Knight Rises</td>\n",
       "      <td>7.6</td>\n",
       "      <td>9106</td>\n",
       "      <td>49026</td>\n",
       "      <td>[{\"cast_id\": 2, \"character\": \"Bruce Wayne / Ba...</td>\n",
       "      <td>[{\"credit_id\": \"52fe4781c3a36847f81398c3\", \"de...</td>\n",
       "    </tr>\n",
       "    <tr>\n",
       "      <th>4</th>\n",
       "      <td>260000000</td>\n",
       "      <td>[{\"id\": 28, \"name\": \"Action\"}, {\"id\": 12, \"nam...</td>\n",
       "      <td>http://movies.disney.com/john-carter</td>\n",
       "      <td>49529</td>\n",
       "      <td>[{\"id\": 818, \"name\": \"based on novel\"}, {\"id\":...</td>\n",
       "      <td>en</td>\n",
       "      <td>John Carter</td>\n",
       "      <td>John Carter is a war-weary, former military ca...</td>\n",
       "      <td>43.926995</td>\n",
       "      <td>[{\"name\": \"Walt Disney Pictures\", \"id\": 2}]</td>\n",
       "      <td>...</td>\n",
       "      <td>132.0</td>\n",
       "      <td>[{\"iso_639_1\": \"en\", \"name\": \"English\"}]</td>\n",
       "      <td>Released</td>\n",
       "      <td>Lost in our world, found in another.</td>\n",
       "      <td>John Carter</td>\n",
       "      <td>6.1</td>\n",
       "      <td>2124</td>\n",
       "      <td>49529</td>\n",
       "      <td>[{\"cast_id\": 5, \"character\": \"John Carter\", \"c...</td>\n",
       "      <td>[{\"credit_id\": \"52fe479ac3a36847f813eaa3\", \"de...</td>\n",
       "    </tr>\n",
       "  </tbody>\n",
       "</table>\n",
       "<p>5 rows × 23 columns</p>\n",
       "</div>"
      ],
      "text/plain": [
       "      budget                                             genres  \\\n",
       "0  237000000  [{\"id\": 28, \"name\": \"Action\"}, {\"id\": 12, \"nam...   \n",
       "1  300000000  [{\"id\": 12, \"name\": \"Adventure\"}, {\"id\": 14, \"...   \n",
       "2  245000000  [{\"id\": 28, \"name\": \"Action\"}, {\"id\": 12, \"nam...   \n",
       "3  250000000  [{\"id\": 28, \"name\": \"Action\"}, {\"id\": 80, \"nam...   \n",
       "4  260000000  [{\"id\": 28, \"name\": \"Action\"}, {\"id\": 12, \"nam...   \n",
       "\n",
       "                                       homepage      id  \\\n",
       "0                   http://www.avatarmovie.com/   19995   \n",
       "1  http://disney.go.com/disneypictures/pirates/     285   \n",
       "2   http://www.sonypictures.com/movies/spectre/  206647   \n",
       "3            http://www.thedarkknightrises.com/   49026   \n",
       "4          http://movies.disney.com/john-carter   49529   \n",
       "\n",
       "                                            keywords original_language  \\\n",
       "0  [{\"id\": 1463, \"name\": \"culture clash\"}, {\"id\":...                en   \n",
       "1  [{\"id\": 270, \"name\": \"ocean\"}, {\"id\": 726, \"na...                en   \n",
       "2  [{\"id\": 470, \"name\": \"spy\"}, {\"id\": 818, \"name...                en   \n",
       "3  [{\"id\": 849, \"name\": \"dc comics\"}, {\"id\": 853,...                en   \n",
       "4  [{\"id\": 818, \"name\": \"based on novel\"}, {\"id\":...                en   \n",
       "\n",
       "                             original_title  \\\n",
       "0                                    Avatar   \n",
       "1  Pirates of the Caribbean: At World's End   \n",
       "2                                   Spectre   \n",
       "3                     The Dark Knight Rises   \n",
       "4                               John Carter   \n",
       "\n",
       "                                            overview  popularity  \\\n",
       "0  In the 22nd century, a paraplegic Marine is di...  150.437577   \n",
       "1  Captain Barbossa, long believed to be dead, ha...  139.082615   \n",
       "2  A cryptic message from Bond’s past sends him o...  107.376788   \n",
       "3  Following the death of District Attorney Harve...  112.312950   \n",
       "4  John Carter is a war-weary, former military ca...   43.926995   \n",
       "\n",
       "                                production_companies  ... runtime  \\\n",
       "0  [{\"name\": \"Ingenious Film Partners\", \"id\": 289...  ...   162.0   \n",
       "1  [{\"name\": \"Walt Disney Pictures\", \"id\": 2}, {\"...  ...   169.0   \n",
       "2  [{\"name\": \"Columbia Pictures\", \"id\": 5}, {\"nam...  ...   148.0   \n",
       "3  [{\"name\": \"Legendary Pictures\", \"id\": 923}, {\"...  ...   165.0   \n",
       "4        [{\"name\": \"Walt Disney Pictures\", \"id\": 2}]  ...   132.0   \n",
       "\n",
       "                                    spoken_languages    status  \\\n",
       "0  [{\"iso_639_1\": \"en\", \"name\": \"English\"}, {\"iso...  Released   \n",
       "1           [{\"iso_639_1\": \"en\", \"name\": \"English\"}]  Released   \n",
       "2  [{\"iso_639_1\": \"fr\", \"name\": \"Fran\\u00e7ais\"},...  Released   \n",
       "3           [{\"iso_639_1\": \"en\", \"name\": \"English\"}]  Released   \n",
       "4           [{\"iso_639_1\": \"en\", \"name\": \"English\"}]  Released   \n",
       "\n",
       "                                          tagline  \\\n",
       "0                     Enter the World of Pandora.   \n",
       "1  At the end of the world, the adventure begins.   \n",
       "2                           A Plan No One Escapes   \n",
       "3                                 The Legend Ends   \n",
       "4            Lost in our world, found in another.   \n",
       "\n",
       "                                      title vote_average vote_count movie_id  \\\n",
       "0                                    Avatar          7.2      11800    19995   \n",
       "1  Pirates of the Caribbean: At World's End          6.9       4500      285   \n",
       "2                                   Spectre          6.3       4466   206647   \n",
       "3                     The Dark Knight Rises          7.6       9106    49026   \n",
       "4                               John Carter          6.1       2124    49529   \n",
       "\n",
       "                                                cast  \\\n",
       "0  [{\"cast_id\": 242, \"character\": \"Jake Sully\", \"...   \n",
       "1  [{\"cast_id\": 4, \"character\": \"Captain Jack Spa...   \n",
       "2  [{\"cast_id\": 1, \"character\": \"James Bond\", \"cr...   \n",
       "3  [{\"cast_id\": 2, \"character\": \"Bruce Wayne / Ba...   \n",
       "4  [{\"cast_id\": 5, \"character\": \"John Carter\", \"c...   \n",
       "\n",
       "                                                crew  \n",
       "0  [{\"credit_id\": \"52fe48009251416c750aca23\", \"de...  \n",
       "1  [{\"credit_id\": \"52fe4232c3a36847f800b579\", \"de...  \n",
       "2  [{\"credit_id\": \"54805967c3a36829b5002c41\", \"de...  \n",
       "3  [{\"credit_id\": \"52fe4781c3a36847f81398c3\", \"de...  \n",
       "4  [{\"credit_id\": \"52fe479ac3a36847f813eaa3\", \"de...  \n",
       "\n",
       "[5 rows x 23 columns]"
      ]
     },
     "execution_count": 5,
     "metadata": {},
     "output_type": "execute_result"
    }
   ],
   "source": [
    "# now first we should combine the dataset and ultimately we have to make the movie tags in vectorized forms\n",
    "# we can merge the dataset on the title column\n",
    "movies = movies.merge(credits, on='title')\n",
    "print(movies.columns)\n",
    "movies.head()"
   ]
  },
  {
   "cell_type": "code",
   "execution_count": 6,
   "metadata": {
    "execution": {
     "iopub.execute_input": "2023-03-05T07:09:13.083113Z",
     "iopub.status.busy": "2023-03-05T07:09:13.082796Z",
     "iopub.status.idle": "2023-03-05T07:09:13.107368Z",
     "shell.execute_reply": "2023-03-05T07:09:13.106117Z",
     "shell.execute_reply.started": "2023-03-05T07:09:13.083088Z"
    }
   },
   "outputs": [
    {
     "name": "stdout",
     "output_type": "stream",
     "text": [
      "<class 'pandas.core.frame.DataFrame'>\n",
      "Int64Index: 4809 entries, 0 to 4808\n",
      "Data columns (total 23 columns):\n",
      " #   Column                Non-Null Count  Dtype  \n",
      "---  ------                --------------  -----  \n",
      " 0   budget                4809 non-null   int64  \n",
      " 1   genres                4809 non-null   object \n",
      " 2   homepage              1713 non-null   object \n",
      " 3   id                    4809 non-null   int64  \n",
      " 4   keywords              4809 non-null   object \n",
      " 5   original_language     4809 non-null   object \n",
      " 6   original_title        4809 non-null   object \n",
      " 7   overview              4806 non-null   object \n",
      " 8   popularity            4809 non-null   float64\n",
      " 9   production_companies  4809 non-null   object \n",
      " 10  production_countries  4809 non-null   object \n",
      " 11  release_date          4808 non-null   object \n",
      " 12  revenue               4809 non-null   int64  \n",
      " 13  runtime               4807 non-null   float64\n",
      " 14  spoken_languages      4809 non-null   object \n",
      " 15  status                4809 non-null   object \n",
      " 16  tagline               3965 non-null   object \n",
      " 17  title                 4809 non-null   object \n",
      " 18  vote_average          4809 non-null   float64\n",
      " 19  vote_count            4809 non-null   int64  \n",
      " 20  movie_id              4809 non-null   int64  \n",
      " 21  cast                  4809 non-null   object \n",
      " 22  crew                  4809 non-null   object \n",
      "dtypes: float64(3), int64(5), object(15)\n",
      "memory usage: 901.7+ KB\n"
     ]
    }
   ],
   "source": [
    "movies.info()"
   ]
  },
  {
   "cell_type": "code",
   "execution_count": 7,
   "metadata": {
    "execution": {
     "iopub.execute_input": "2023-03-05T07:09:13.389968Z",
     "iopub.status.busy": "2023-03-05T07:09:13.389586Z",
     "iopub.status.idle": "2023-03-05T07:09:13.400070Z",
     "shell.execute_reply": "2023-03-05T07:09:13.398530Z",
     "shell.execute_reply.started": "2023-03-05T07:09:13.389941Z"
    }
   },
   "outputs": [],
   "source": [
    "# now we should first have to manually select which columns will affect the recommendation of a movie\n",
    "# id and title will be required for any further references\n",
    "# budget might be a factor for recommendation as mostly high budget movies include high VFX, so might be a good movie\n",
    "# genres is strictly required\n",
    "# keywords is required as it tells many things about movie, so will be useful in creating tags\n",
    "# overview will also be required in a similarity metric\n",
    "# popularity might be required beacuse of the sheep mentatlity of humans\n",
    "# release date do affect recommendation but we aren't including as that will become hectic to incorporate\n",
    "# runtime do affect the movie recommendation \n",
    "# have to remove tagline because there is a lot of missing data\n",
    "# title, vote_average(won't include vote_count), \n",
    "# will include cast(only top 3 or 5) {as they are the superstars who can affect the movie recommendation}\n",
    "# will include director only amongst crew only as they are the ones who can be known by public {which can affect the \n",
    "# recommendation, producer also affects but i am avoiding that}\n",
    "string_columns_to_select = ['title', 'genres', 'keywords', 'overview', 'cast', 'crew']\n",
    "numerical_columns_to_select = ['id', 'budget', 'popularity', 'runtime', 'vote_average']\n",
    "movies = movies.loc[:, string_columns_to_select + numerical_columns_to_select]"
   ]
  },
  {
   "cell_type": "code",
   "execution_count": 8,
   "metadata": {
    "execution": {
     "iopub.execute_input": "2023-03-05T07:09:14.787697Z",
     "iopub.status.busy": "2023-03-05T07:09:14.786420Z",
     "iopub.status.idle": "2023-03-05T07:09:14.803154Z",
     "shell.execute_reply": "2023-03-05T07:09:14.801540Z",
     "shell.execute_reply.started": "2023-03-05T07:09:14.787661Z"
    }
   },
   "outputs": [
    {
     "data": {
      "text/html": [
       "<div>\n",
       "<style scoped>\n",
       "    .dataframe tbody tr th:only-of-type {\n",
       "        vertical-align: middle;\n",
       "    }\n",
       "\n",
       "    .dataframe tbody tr th {\n",
       "        vertical-align: top;\n",
       "    }\n",
       "\n",
       "    .dataframe thead th {\n",
       "        text-align: right;\n",
       "    }\n",
       "</style>\n",
       "<table border=\"1\" class=\"dataframe\">\n",
       "  <thead>\n",
       "    <tr style=\"text-align: right;\">\n",
       "      <th></th>\n",
       "      <th>title</th>\n",
       "      <th>genres</th>\n",
       "      <th>keywords</th>\n",
       "      <th>overview</th>\n",
       "      <th>cast</th>\n",
       "      <th>crew</th>\n",
       "      <th>id</th>\n",
       "      <th>budget</th>\n",
       "      <th>popularity</th>\n",
       "      <th>runtime</th>\n",
       "      <th>vote_average</th>\n",
       "    </tr>\n",
       "  </thead>\n",
       "  <tbody>\n",
       "    <tr>\n",
       "      <th>0</th>\n",
       "      <td>Avatar</td>\n",
       "      <td>[{\"id\": 28, \"name\": \"Action\"}, {\"id\": 12, \"nam...</td>\n",
       "      <td>[{\"id\": 1463, \"name\": \"culture clash\"}, {\"id\":...</td>\n",
       "      <td>In the 22nd century, a paraplegic Marine is di...</td>\n",
       "      <td>[{\"cast_id\": 242, \"character\": \"Jake Sully\", \"...</td>\n",
       "      <td>[{\"credit_id\": \"52fe48009251416c750aca23\", \"de...</td>\n",
       "      <td>19995</td>\n",
       "      <td>237000000</td>\n",
       "      <td>150.437577</td>\n",
       "      <td>162.0</td>\n",
       "      <td>7.2</td>\n",
       "    </tr>\n",
       "  </tbody>\n",
       "</table>\n",
       "</div>"
      ],
      "text/plain": [
       "    title                                             genres  \\\n",
       "0  Avatar  [{\"id\": 28, \"name\": \"Action\"}, {\"id\": 12, \"nam...   \n",
       "\n",
       "                                            keywords  \\\n",
       "0  [{\"id\": 1463, \"name\": \"culture clash\"}, {\"id\":...   \n",
       "\n",
       "                                            overview  \\\n",
       "0  In the 22nd century, a paraplegic Marine is di...   \n",
       "\n",
       "                                                cast  \\\n",
       "0  [{\"cast_id\": 242, \"character\": \"Jake Sully\", \"...   \n",
       "\n",
       "                                                crew     id     budget  \\\n",
       "0  [{\"credit_id\": \"52fe48009251416c750aca23\", \"de...  19995  237000000   \n",
       "\n",
       "   popularity  runtime  vote_average  \n",
       "0  150.437577    162.0           7.2  "
      ]
     },
     "execution_count": 8,
     "metadata": {},
     "output_type": "execute_result"
    }
   ],
   "source": [
    "movies.head(1)"
   ]
  },
  {
   "cell_type": "code",
   "execution_count": 9,
   "metadata": {
    "execution": {
     "iopub.execute_input": "2023-03-05T07:09:16.040845Z",
     "iopub.status.busy": "2023-03-05T07:09:16.040501Z",
     "iopub.status.idle": "2023-03-05T07:09:16.064369Z",
     "shell.execute_reply": "2023-03-05T07:09:16.063424Z",
     "shell.execute_reply.started": "2023-03-05T07:09:16.040819Z"
    }
   },
   "outputs": [
    {
     "name": "stdout",
     "output_type": "stream",
     "text": [
      "title           0\n",
      "genres          0\n",
      "keywords        0\n",
      "overview        3\n",
      "cast            0\n",
      "crew            0\n",
      "id              0\n",
      "budget          0\n",
      "popularity      0\n",
      "runtime         2\n",
      "vote_average    0\n",
      "dtype: int64\n",
      "(4809, 11)\n",
      "title           0\n",
      "genres          0\n",
      "keywords        0\n",
      "overview        0\n",
      "cast            0\n",
      "crew            0\n",
      "id              0\n",
      "budget          0\n",
      "popularity      0\n",
      "runtime         0\n",
      "vote_average    0\n",
      "dtype: int64\n",
      "(4806, 11)\n"
     ]
    }
   ],
   "source": [
    "# let us first check if there are any null values \n",
    "# if there are too many in a column then we can drop that column, if there are very less that we can drop the rows\n",
    "# and if there are some countable null values then we can fill with the mode values in nuerical columns\n",
    "print(movies.isnull().sum())\n",
    "print(movies.shape)\n",
    "movies.dropna(inplace=True)\n",
    "print(movies.isnull().sum())\n",
    "print(movies.shape)\n",
    "# dealt with missing data, now preprocessing"
   ]
  },
  {
   "cell_type": "code",
   "execution_count": 10,
   "metadata": {
    "execution": {
     "iopub.execute_input": "2023-03-05T07:09:18.414372Z",
     "iopub.status.busy": "2023-03-05T07:09:18.414062Z",
     "iopub.status.idle": "2023-03-05T07:09:18.424862Z",
     "shell.execute_reply": "2023-03-05T07:09:18.423695Z",
     "shell.execute_reply.started": "2023-03-05T07:09:18.414347Z"
    }
   },
   "outputs": [],
   "source": [
    "# now from these data we have to form vectors somehow by preprocessing\n",
    "# for string columns we will form vectors by NLP techniques such as BAG of words, or BERT but for this time i am gonna use \n",
    "# simple BAG of words by forming dictionary \n",
    "# for numerical columns except id and vote_average we will normalize them \n",
    "# and then form a vector for a movie by concatenating the vectors for string and numerical columns\n",
    "\n",
    "def genre_keywords_preprocess(string):\n",
    "    # we have to take the name out of the dictionary as that will mean some tags\n",
    "    # strip out white spaces \n",
    "    # convert all of them to lower characters\n",
    "    # stem the tags so that no redundant tags will be created \n",
    "    return [stemmer.stem(re.sub(\" \", '', x['name'].lower())) for _,x in enumerate(ast.literal_eval(string))]\n",
    "\n",
    "def overview_preprocess(string):\n",
    "    # remove any charcters other than alpabets\n",
    "    # convert to lowercase\n",
    "    # split on white spaces\n",
    "    # stem the words and remove the stopwords\n",
    "    return [stemmer.stem(x) for x in re.sub(r'[^a-zA-Z]', ' ', string.lower()).split() if x not in stopwords_ and x!='']\n",
    "\n",
    "def cast_preprocess(cast, take_top=5):\n",
    "    # will have to take names of cast only\n",
    "    # convert to lowercase\n",
    "    # remove whitespaces\n",
    "    return [re.sub(\" \", \"\", x['name'].lower()) for i,x in enumerate(ast.literal_eval(cast)) if i<take_top]\n",
    "\n",
    "\n",
    "def crew_preprocess(crew):\n",
    "    # will have to find the name of the person whose job is 'Director'\n",
    "    # convert name to lowercase\n",
    "    # remove whitespaces from name\n",
    "    for _,x in enumerate(ast.literal_eval(crew)):\n",
    "        if x['job']=='Director':\n",
    "            return [re.sub(\" \", \"\", x['name'].lower())]\n",
    "\n",
    "    return []\n",
    "        \n",
    "        \n",
    "def numerical_column_normalizer(column):\n",
    "    mu = column.mean()\n",
    "    sigma = column.std()\n",
    "    return (column-mu)/sigma"
   ]
  },
  {
   "cell_type": "code",
   "execution_count": 11,
   "metadata": {
    "execution": {
     "iopub.execute_input": "2023-03-05T07:09:18.841994Z",
     "iopub.status.busy": "2023-03-05T07:09:18.841664Z",
     "iopub.status.idle": "2023-03-05T07:09:30.405456Z",
     "shell.execute_reply": "2023-03-05T07:09:30.403834Z",
     "shell.execute_reply.started": "2023-03-05T07:09:18.841969Z"
    }
   },
   "outputs": [],
   "source": [
    "# preprocessing string columns\n",
    "movies['genres'] = movies['genres'].apply(genre_keywords_preprocess)\n",
    "movies['keywords'] = movies['keywords'].apply(genre_keywords_preprocess)\n",
    "movies['overview'] = movies['overview'].apply(overview_preprocess)\n",
    "movies['cast'] = movies['cast'].apply(cast_preprocess)\n",
    "movies['crew'] = movies['crew'].apply(crew_preprocess)\n",
    "\n",
    "# preprocessing numerical columns\n",
    "movies['budget'] = numerical_column_normalizer(movies['budget'])\n",
    "movies['popularity'] = numerical_column_normalizer(movies['popularity'])\n",
    "movies['runtime'] = numerical_column_normalizer(movies['runtime'])"
   ]
  },
  {
   "cell_type": "code",
   "execution_count": 12,
   "metadata": {
    "execution": {
     "iopub.execute_input": "2023-03-05T07:09:30.411477Z",
     "iopub.status.busy": "2023-03-05T07:09:30.410353Z",
     "iopub.status.idle": "2023-03-05T07:09:30.463496Z",
     "shell.execute_reply": "2023-03-05T07:09:30.462450Z",
     "shell.execute_reply.started": "2023-03-05T07:09:30.411407Z"
    }
   },
   "outputs": [],
   "source": [
    "# now we have to create a column of tags which will comprise of all the string elements\n",
    "movies['tags'] = movies['genres'] + movies['keywords'] + movies['overview'] + movies['cast'] + movies['crew']\n",
    "movies = movies.loc[:, ['id', 'title'] + numerical_columns_to_select[1:] + ['tags']]"
   ]
  },
  {
   "cell_type": "code",
   "execution_count": 13,
   "metadata": {
    "execution": {
     "iopub.execute_input": "2023-03-05T07:09:30.465199Z",
     "iopub.status.busy": "2023-03-05T07:09:30.464904Z",
     "iopub.status.idle": "2023-03-05T07:09:30.481308Z",
     "shell.execute_reply": "2023-03-05T07:09:30.480317Z",
     "shell.execute_reply.started": "2023-03-05T07:09:30.465165Z"
    }
   },
   "outputs": [
    {
     "data": {
      "text/html": [
       "<div>\n",
       "<style scoped>\n",
       "    .dataframe tbody tr th:only-of-type {\n",
       "        vertical-align: middle;\n",
       "    }\n",
       "\n",
       "    .dataframe tbody tr th {\n",
       "        vertical-align: top;\n",
       "    }\n",
       "\n",
       "    .dataframe thead th {\n",
       "        text-align: right;\n",
       "    }\n",
       "</style>\n",
       "<table border=\"1\" class=\"dataframe\">\n",
       "  <thead>\n",
       "    <tr style=\"text-align: right;\">\n",
       "      <th></th>\n",
       "      <th>id</th>\n",
       "      <th>title</th>\n",
       "      <th>budget</th>\n",
       "      <th>popularity</th>\n",
       "      <th>runtime</th>\n",
       "      <th>vote_average</th>\n",
       "      <th>tags</th>\n",
       "    </tr>\n",
       "  </thead>\n",
       "  <tbody>\n",
       "    <tr>\n",
       "      <th>0</th>\n",
       "      <td>19995</td>\n",
       "      <td>Avatar</td>\n",
       "      <td>5.107917</td>\n",
       "      <td>4.053347</td>\n",
       "      <td>2.438374</td>\n",
       "      <td>7.2</td>\n",
       "      <td>[action, adventur, fantasi, sciencefict, cultu...</td>\n",
       "    </tr>\n",
       "    <tr>\n",
       "      <th>1</th>\n",
       "      <td>285</td>\n",
       "      <td>Pirates of the Caribbean: At World's End</td>\n",
       "      <td>6.655344</td>\n",
       "      <td>3.696374</td>\n",
       "      <td>2.748078</td>\n",
       "      <td>6.9</td>\n",
       "      <td>[adventur, fantasi, action, ocean, drugabus, e...</td>\n",
       "    </tr>\n",
       "    <tr>\n",
       "      <th>2</th>\n",
       "      <td>206647</td>\n",
       "      <td>Spectre</td>\n",
       "      <td>5.304416</td>\n",
       "      <td>2.699617</td>\n",
       "      <td>1.818967</td>\n",
       "      <td>6.3</td>\n",
       "      <td>[action, adventur, crime, spi, basedonnovel, s...</td>\n",
       "    </tr>\n",
       "    <tr>\n",
       "      <th>3</th>\n",
       "      <td>49026</td>\n",
       "      <td>The Dark Knight Rises</td>\n",
       "      <td>5.427227</td>\n",
       "      <td>2.854798</td>\n",
       "      <td>2.571105</td>\n",
       "      <td>7.6</td>\n",
       "      <td>[action, crime, drama, thriller, dccomic, crim...</td>\n",
       "    </tr>\n",
       "    <tr>\n",
       "      <th>4</th>\n",
       "      <td>49529</td>\n",
       "      <td>John Carter</td>\n",
       "      <td>5.672851</td>\n",
       "      <td>0.704903</td>\n",
       "      <td>1.111074</td>\n",
       "      <td>6.1</td>\n",
       "      <td>[action, adventur, sciencefict, basedonnovel, ...</td>\n",
       "    </tr>\n",
       "  </tbody>\n",
       "</table>\n",
       "</div>"
      ],
      "text/plain": [
       "       id                                     title    budget  popularity  \\\n",
       "0   19995                                    Avatar  5.107917    4.053347   \n",
       "1     285  Pirates of the Caribbean: At World's End  6.655344    3.696374   \n",
       "2  206647                                   Spectre  5.304416    2.699617   \n",
       "3   49026                     The Dark Knight Rises  5.427227    2.854798   \n",
       "4   49529                               John Carter  5.672851    0.704903   \n",
       "\n",
       "    runtime  vote_average                                               tags  \n",
       "0  2.438374           7.2  [action, adventur, fantasi, sciencefict, cultu...  \n",
       "1  2.748078           6.9  [adventur, fantasi, action, ocean, drugabus, e...  \n",
       "2  1.818967           6.3  [action, adventur, crime, spi, basedonnovel, s...  \n",
       "3  2.571105           7.6  [action, crime, drama, thriller, dccomic, crim...  \n",
       "4  1.111074           6.1  [action, adventur, sciencefict, basedonnovel, ...  "
      ]
     },
     "execution_count": 13,
     "metadata": {},
     "output_type": "execute_result"
    }
   ],
   "source": [
    "movies.head()"
   ]
  },
  {
   "cell_type": "markdown",
   "metadata": {},
   "source": [
    "### ***Now we have to select the tags column and and make a vector for any movie through the BAG of words approach***"
   ]
  },
  {
   "cell_type": "code",
   "execution_count": 14,
   "metadata": {
    "execution": {
     "iopub.execute_input": "2023-03-05T07:09:34.735688Z",
     "iopub.status.busy": "2023-03-05T07:09:34.735311Z",
     "iopub.status.idle": "2023-03-05T07:09:34.844311Z",
     "shell.execute_reply": "2023-03-05T07:09:34.842696Z",
     "shell.execute_reply.started": "2023-03-05T07:09:34.735662Z"
    }
   },
   "outputs": [
    {
     "name": "stdout",
     "output_type": "stream",
     "text": [
      "Length of open vocab is 32546\n",
      "Length of closed_vocab is 5000\n"
     ]
    }
   ],
   "source": [
    "def make_dict(tags, select=5000):\n",
    "    # we will make a count dictionary and select the most common 5000 words\n",
    "    open_vocab = {}\n",
    "    for _,tag in enumerate(tags, 0):\n",
    "        #if type(tag)==float:\n",
    "            #print(f\"i, tag, type(tag) tags = {i}, {tag}, {type(tag)}, {tags}\")\n",
    "        for word in tag:\n",
    "            if word in open_vocab.keys():\n",
    "                open_vocab[word]+=1\n",
    "            else:\n",
    "                open_vocab[word]=1\n",
    "    sorted_open_vocab = sorted(open_vocab.items(), key=lambda x:x[1])[::-1] # descending order\n",
    "    closed_vocab = dict(sorted_open_vocab[:select])\n",
    "    print(f\"Length of open vocab is {len(open_vocab)}\\nLength of closed_vocab is {len(closed_vocab)}\")\n",
    "    return list(closed_vocab.keys())  # as this will be our dictionary \n",
    "\n",
    "select = 5000 # hyperparameter\n",
    "vocab = make_dict(movies['tags'], select=select)\n",
    "word2ind = {word:i for i,word in enumerate(vocab)}\n",
    "ind2word = {i:word for i, word in enumerate(vocab)}"
   ]
  },
  {
   "cell_type": "code",
   "execution_count": 15,
   "metadata": {
    "execution": {
     "iopub.execute_input": "2023-03-05T07:09:42.894692Z",
     "iopub.status.busy": "2023-03-05T07:09:42.894071Z",
     "iopub.status.idle": "2023-03-05T07:09:43.124648Z",
     "shell.execute_reply": "2023-03-05T07:09:43.123602Z",
     "shell.execute_reply.started": "2023-03-05T07:09:42.894623Z"
    }
   },
   "outputs": [
    {
     "name": "stdout",
     "output_type": "stream",
     "text": [
      "vectors.shape = (4806, 5000)\n"
     ]
    }
   ],
   "source": [
    "def vectorize(tags, word2ind):\n",
    "    vectors =  []\n",
    "    for tag in tags:\n",
    "        vector = np.zeros(len(word2ind))\n",
    "        for word in tag:\n",
    "            if word in word2ind.keys():\n",
    "                vector[word2ind[word]]+=1\n",
    "        vectors.append(vector)\n",
    "    vectors = np.array(vectors)\n",
    "    print(f\"vectors.shape = {vectors.shape}\")\n",
    "    return vectors\n",
    "\n",
    "string_vectors = vectorize(movies['tags'], word2ind)"
   ]
  },
  {
   "cell_type": "code",
   "execution_count": 16,
   "metadata": {
    "execution": {
     "iopub.execute_input": "2023-03-05T07:09:45.301620Z",
     "iopub.status.busy": "2023-03-05T07:09:45.300243Z",
     "iopub.status.idle": "2023-03-05T07:09:45.339278Z",
     "shell.execute_reply": "2023-03-05T07:09:45.337876Z",
     "shell.execute_reply.started": "2023-03-05T07:09:45.301557Z"
    }
   },
   "outputs": [
    {
     "name": "stdout",
     "output_type": "stream",
     "text": [
      "(4806, 4)\n",
      "(4806, 5004)\n"
     ]
    }
   ],
   "source": [
    "# now we have to form the final data by concatenating the string vectors with numerical vectors\n",
    "numerical_vectors = movies.iloc[:, 2:-1].values\n",
    "print(numerical_vectors.shape)\n",
    "data = np.concatenate((string_vectors, numerical_vectors), axis=1)\n",
    "print(data.shape)"
   ]
  },
  {
   "cell_type": "markdown",
   "metadata": {},
   "source": [
    "## ***Calculate the similarity metric***"
   ]
  },
  {
   "cell_type": "code",
   "execution_count": 17,
   "metadata": {
    "execution": {
     "iopub.execute_input": "2023-03-05T07:09:48.889060Z",
     "iopub.status.busy": "2023-03-05T07:09:48.888733Z",
     "iopub.status.idle": "2023-03-05T07:09:50.504238Z",
     "shell.execute_reply": "2023-03-05T07:09:50.503379Z",
     "shell.execute_reply.started": "2023-03-05T07:09:48.889035Z"
    }
   },
   "outputs": [],
   "source": [
    "def cosine_similarity_matrix(data):\n",
    "    norm_vec = np.linalg.norm(data, axis=1)\n",
    "    norm_vec = norm_vec.reshape(1, norm_vec.shape[0])\n",
    "    norm_mat = norm_vec.T@norm_vec\n",
    "    mat = (data@data.T)/norm_mat\n",
    "    return mat\n",
    "\n",
    "similarity_matrix_numerical = cosine_similarity_matrix(data)"
   ]
  },
  {
   "cell_type": "markdown",
   "metadata": {},
   "source": [
    "### ***Now given a movie we have to recommend 5 most similar movies to it***"
   ]
  },
  {
   "cell_type": "code",
   "execution_count": 18,
   "metadata": {
    "execution": {
     "iopub.execute_input": "2023-03-05T07:09:50.949378Z",
     "iopub.status.busy": "2023-03-05T07:09:50.948736Z",
     "iopub.status.idle": "2023-03-05T07:09:50.956173Z",
     "shell.execute_reply": "2023-03-05T07:09:50.954801Z",
     "shell.execute_reply.started": "2023-03-05T07:09:50.949341Z"
    }
   },
   "outputs": [],
   "source": [
    "def recommend(movie_name, movies, similarity_matrix):\n",
    "    # remember movies is a dataframe\n",
    "    index = movies[movies['title']==movie_name].index\n",
    "    index = index[0]\n",
    "    # now we have the index number of the movie and we have to determine the top 5 movies of this dataset\n",
    "    recommended_movies_index = list(np.argsort(similarity_matrix[index]))[::-1][1:6] # to recommend top 6 movies\n",
    "    recommended_movies = movies['title'][recommended_movies_index]\n",
    "    return list(recommended_movies)"
   ]
  },
  {
   "cell_type": "code",
   "execution_count": 19,
   "metadata": {
    "execution": {
     "iopub.execute_input": "2023-03-05T07:09:51.308078Z",
     "iopub.status.busy": "2023-03-05T07:09:51.307761Z",
     "iopub.status.idle": "2023-03-05T07:09:51.317191Z",
     "shell.execute_reply": "2023-03-05T07:09:51.316155Z",
     "shell.execute_reply.started": "2023-03-05T07:09:51.308051Z"
    }
   },
   "outputs": [
    {
     "name": "stdout",
     "output_type": "stream",
     "text": [
      "Movies similar to Spider-Man 3 are - \n"
     ]
    },
    {
     "data": {
      "text/plain": [
       "['Spider-Man',\n",
       " 'Spider-Man 2',\n",
       " \"Pirates of the Caribbean: At World's End\",\n",
       " 'The Hobbit: The Desolation of Smaug',\n",
       " 'Furious 7']"
      ]
     },
     "execution_count": 19,
     "metadata": {},
     "output_type": "execute_result"
    }
   ],
   "source": [
    "idx = 5\n",
    "print(f\"Movies similar to {movies['title'][idx]} are - \")\n",
    "recommend(movies['title'][idx], movies, similarity_matrix_numerical)"
   ]
  },
  {
   "cell_type": "markdown",
   "metadata": {},
   "source": [
    "### ***Movies recommended are not good, let's try by dropping numerical_columns***"
   ]
  },
  {
   "cell_type": "code",
   "execution_count": 20,
   "metadata": {
    "execution": {
     "iopub.execute_input": "2023-03-05T07:09:58.520730Z",
     "iopub.status.busy": "2023-03-05T07:09:58.520402Z",
     "iopub.status.idle": "2023-03-05T07:10:00.145590Z",
     "shell.execute_reply": "2023-03-05T07:10:00.143683Z",
     "shell.execute_reply.started": "2023-03-05T07:09:58.520704Z"
    }
   },
   "outputs": [],
   "source": [
    "similarity_matrix_string_only = cosine_similarity_matrix(string_vectors)"
   ]
  },
  {
   "cell_type": "code",
   "execution_count": 21,
   "metadata": {
    "execution": {
     "iopub.execute_input": "2023-03-05T07:10:00.149094Z",
     "iopub.status.busy": "2023-03-05T07:10:00.148253Z",
     "iopub.status.idle": "2023-03-05T07:10:00.165696Z",
     "shell.execute_reply": "2023-03-05T07:10:00.163635Z",
     "shell.execute_reply.started": "2023-03-05T07:10:00.149044Z"
    }
   },
   "outputs": [
    {
     "name": "stdout",
     "output_type": "stream",
     "text": [
      "Movies similar to The Polar Express are - \n"
     ]
    },
    {
     "data": {
      "text/plain": [
       "['The Calling', 'The Book of Life', 'The Hunt', 'Gun Shy', 'The Jungle Book']"
      ]
     },
     "execution_count": 21,
     "metadata": {},
     "output_type": "execute_result"
    }
   ],
   "source": [
    "idx = 90\n",
    "print(f\"Movies similar to {movies['title'][idx]} are - \")\n",
    "recommend(movies['title'][idx], movies, similarity_matrix_string_only)"
   ]
  },
  {
   "cell_type": "code",
   "execution_count": 22,
   "metadata": {
    "execution": {
     "iopub.execute_input": "2023-03-05T07:10:18.448269Z",
     "iopub.status.busy": "2023-03-05T07:10:18.447978Z",
     "iopub.status.idle": "2023-03-05T07:10:18.459641Z",
     "shell.execute_reply": "2023-03-05T07:10:18.458353Z",
     "shell.execute_reply.started": "2023-03-05T07:10:18.448244Z"
    }
   },
   "outputs": [
    {
     "name": "stdout",
     "output_type": "stream",
     "text": [
      "Movies similar to Spider-Man 3 are - \n"
     ]
    },
    {
     "data": {
      "text/plain": [
       "['Spider-Man',\n",
       " 'Spider-Man 2',\n",
       " 'The Amazing Spider-Man 2',\n",
       " 'The Amazing Spider-Man',\n",
       " 'Arachnophobia']"
      ]
     },
     "execution_count": 22,
     "metadata": {},
     "output_type": "execute_result"
    }
   ],
   "source": [
    "idx = 5\n",
    "print(f\"Movies similar to {movies['title'][idx]} are - \")\n",
    "recommend(movies['title'][idx], movies, similarity_matrix_string_only)"
   ]
  },
  {
   "cell_type": "code",
   "execution_count": 23,
   "metadata": {},
   "outputs": [
    {
     "data": {
      "text/plain": [
       "['The Dark Knight',\n",
       " 'The Dark Knight Rises',\n",
       " 'Batman',\n",
       " 'Batman',\n",
       " 'Batman & Robin']"
      ]
     },
     "execution_count": 23,
     "metadata": {},
     "output_type": "execute_result"
    }
   ],
   "source": [
    "recommend('Batman Begins', movies, similarity_matrix_string_only)"
   ]
  },
  {
   "cell_type": "markdown",
   "metadata": {},
   "source": [
    "### ***Now the recommendations are better, we can try out by bringing some valuable numerical columns but i am finally going with string_vectors only as they are performing better***\n",
    "### ***The reason for better suggestion is that fact that the general perception of similar is that the movies should talk about same things but having same budget and rating does not ensure this. Thus. i dropped the numerical columns***"
   ]
  },
  {
   "cell_type": "code",
   "execution_count": null,
   "metadata": {},
   "outputs": [],
   "source": [
    "# for deployment purposes, then download the pickle files simply and do the work\n",
    "# in local IDEs\n",
    "movies = movies.loc[:, ['id', 'title']]\n",
    "pickle.dump(movies, open('movies.pkl', 'wb'))\n",
    "pickle.dump(similarity_matrix_string_only, open('similarity.pkl', 'wb'))\n",
    "movies.head()"
   ]
  },
  {
   "cell_type": "code",
   "execution_count": null,
   "metadata": {},
   "outputs": [],
   "source": []
  },
  {
   "cell_type": "code",
   "execution_count": null,
   "metadata": {},
   "outputs": [],
   "source": []
  },
  {
   "cell_type": "code",
   "execution_count": null,
   "metadata": {},
   "outputs": [],
   "source": []
  },
  {
   "cell_type": "code",
   "execution_count": null,
   "metadata": {},
   "outputs": [],
   "source": []
  },
  {
   "cell_type": "code",
   "execution_count": null,
   "metadata": {},
   "outputs": [],
   "source": []
  },
  {
   "cell_type": "code",
   "execution_count": null,
   "metadata": {},
   "outputs": [],
   "source": []
  },
  {
   "cell_type": "code",
   "execution_count": null,
   "metadata": {},
   "outputs": [],
   "source": []
  }
 ],
 "metadata": {
  "kernelspec": {
   "display_name": "Python 3",
   "language": "python",
   "name": "python3"
  },
  "language_info": {
   "codemirror_mode": {
    "name": "ipython",
    "version": 3
   },
   "file_extension": ".py",
   "mimetype": "text/x-python",
   "name": "python",
   "nbconvert_exporter": "python",
   "pygments_lexer": "ipython3",
   "version": "3.8.3"
  }
 },
 "nbformat": 4,
 "nbformat_minor": 4
}
